{
  "nbformat": 4,
  "nbformat_minor": 0,
  "metadata": {
    "colab": {
      "name": "yakuniyAmaliyot_visualization.ipynb",
      "provenance": [],
      "collapsed_sections": [],
      "include_colab_link": true
    },
    "kernelspec": {
      "name": "python3",
      "display_name": "Python 3"
    },
    "language_info": {
      "name": "python"
    }
  },
  "cells": [
    {
      "cell_type": "markdown",
      "metadata": {
        "id": "view-in-github",
        "colab_type": "text"
      },
      "source": [
        "<a href=\"https://colab.research.google.com/github/MamatkulovBunyodbek1999/MatPlotLib/blob/main/yakuniyAmaliyot_visualization.ipynb\" target=\"_parent\"><img src=\"https://colab.research.google.com/assets/colab-badge.svg\" alt=\"Open In Colab\"/></a>"
      ]
    },
    {
      "cell_type": "markdown",
      "source": [
        "![Imgur](https://i.imgur.com/5pXzCIu.png)\n",
        "\n",
        "# Data Science va Sun'iy Intellekt Praktikum\n",
        "\n",
        "## 4-MODUL. VIZUALIZASIYA\n",
        "\n",
        "## Yakuniy amaliyot. `matplotlib`\n"
      ],
      "metadata": {
        "id": "NH59l9byvNyt"
      }
    },
    {
      "cell_type": "code",
      "execution_count": 1,
      "metadata": {
        "id": "kr8VZeHIrvu_"
      },
      "outputs": [],
      "source": [
        "import numpy as np\n",
        "import pandas as pd\n",
        "\n",
        "import matplotlib.pyplot as plt\n",
        "%matplotlib inline\n",
        "import seaborn as sns\n",
        "sns.set()"
      ]
    },
    {
      "cell_type": "markdown",
      "source": [
        "XYZ kompaniyasi taxminan 4000 ishchi xodim ishlaydi va afsuski har yili xodimlarning 15% ga yaqini o'z xohishlari bilan yoki kompaniya tomonidan ishdan bo'shatiladi va yana yangi xodim ishga olinadi. Bu esa kompaniya uchun bir qancha noqulayliklar tug'diradi (loyihalar sekinlashishi, ishga qabul qilish jarayoni uzoqligi, yangi ishchi ko'nikishi uchun treninglar va ma'lum vaqt kerakligi). Ishchilarni saqlab qolish uchun kompaniya HR tahlil qilib ko'rishga qaror qildi va quyidagi datasetdan foydalanib, qanday faktorlar ishchilarni bo'shashiga sabab bo'lishini tahlil qilishgan.\n",
        "Dataset ustun nomlari:\n",
        "\n",
        "1.   Age - yoshi\n",
        "2.   Attrition - ishdan bo'shaganmi\n",
        "3.   BusinessTravel - komandirovka\n",
        "4.   DistanceFromHome - uydan ishgacha bo'lgan masofa (km)\n",
        "5.   Education - Ta'lim\n",
        "6.   Gender - jinsi\n",
        "7.   MaritalStatus - oilaviy holati\n",
        "\n",
        "\n",
        "<a href=\"https://ibb.co/sR5zPJV\"><img src=\"https://i.ibb.co/g9vh7FR/hr.png\" alt=\"hr\" border=\"0\" style=\"width:100%\"></a>\n"
      ],
      "metadata": {
        "id": "zFN8W2-LujYc"
      }
    },
    {
      "cell_type": "code",
      "source": [
        "#@title QUYIDAGI KODGA TEGMANG!!! \n",
        "import ssl\n",
        "ssl._create_default_https_context = ssl._create_unverified_context"
      ],
      "metadata": {
        "id": "kROQyqEcwjDQ",
        "cellView": "form"
      },
      "execution_count": null,
      "outputs": []
    },
    {
      "cell_type": "markdown",
      "source": [
        "## 1-VAZIFA: Quyidagi CSV fayl linkidan foydalaning \n",
        "### - va ma'lumotlarni \"data\" nomli o'zgaruvchiga biriktiring \n",
        "### - hamda 'EmployeeCount','EmployeeID','StandardHours' ustunlari ortiqchaligi sababli o'chirib tashlang\n",
        "\n",
        "### LINK: https://raw.githubusercontent.com/mukhammad-irmatov/health_dataset/main/hr_dataset.csv"
      ],
      "metadata": {
        "id": "uIzfpkaK3bQW"
      }
    },
    {
      "cell_type": "code",
      "source": [
        "# JAVOBNI SHUYERGA YOZING\n",
        "data=pd.read_csv(\"https://raw.githubusercontent.com/mukhammad-irmatov/health_dataset/main/hr_dataset.csv\")\n",
        "data.head()"
      ],
      "metadata": {
        "id": "JPzzo4-Ut1tu",
        "outputId": "6c480af4-1d6b-48cd-91b4-06757ada7640",
        "colab": {
          "base_uri": "https://localhost:8080/",
          "height": 369
        }
      },
      "execution_count": 2,
      "outputs": [
        {
          "output_type": "execute_result",
          "data": {
            "text/plain": [
              "   Age Attrition     BusinessTravel              Department  DistanceFromHome  \\\n",
              "0   51        No      Travel_Rarely                   Sales                 6   \n",
              "1   31       Yes  Travel_Frequently  Research & Development                10   \n",
              "2   32        No  Travel_Frequently  Research & Development                17   \n",
              "3   38        No         Non-Travel  Research & Development                 2   \n",
              "4   32        No      Travel_Rarely  Research & Development                10   \n",
              "\n",
              "   Education EducationField  EmployeeCount  EmployeeID  Gender  ...  \\\n",
              "0          2  Life Sciences              1           1  Female  ...   \n",
              "1          1  Life Sciences              1           2  Female  ...   \n",
              "2          4          Other              1           3    Male  ...   \n",
              "3          5  Life Sciences              1           4    Male  ...   \n",
              "4          1        Medical              1           5    Male  ...   \n",
              "\n",
              "   NumCompaniesWorked Over18 PercentSalaryHike  StandardHours  \\\n",
              "0                 1.0      Y                11              8   \n",
              "1                 0.0      Y                23              8   \n",
              "2                 1.0      Y                15              8   \n",
              "3                 3.0      Y                11              8   \n",
              "4                 4.0      Y                12              8   \n",
              "\n",
              "   StockOptionLevel TotalWorkingYears  TrainingTimesLastYear  YearsAtCompany  \\\n",
              "0                 0               1.0                      6               1   \n",
              "1                 1               6.0                      3               5   \n",
              "2                 3               5.0                      2               5   \n",
              "3                 3              13.0                      5               8   \n",
              "4                 2               9.0                      2               6   \n",
              "\n",
              "   YearsSinceLastPromotion  YearsWithCurrManager  \n",
              "0                        0                     0  \n",
              "1                        1                     4  \n",
              "2                        0                     3  \n",
              "3                        7                     5  \n",
              "4                        0                     4  \n",
              "\n",
              "[5 rows x 24 columns]"
            ],
            "text/html": [
              "\n",
              "  <div id=\"df-a3b8cd52-f116-4af0-a4bd-74950e4eda2d\">\n",
              "    <div class=\"colab-df-container\">\n",
              "      <div>\n",
              "<style scoped>\n",
              "    .dataframe tbody tr th:only-of-type {\n",
              "        vertical-align: middle;\n",
              "    }\n",
              "\n",
              "    .dataframe tbody tr th {\n",
              "        vertical-align: top;\n",
              "    }\n",
              "\n",
              "    .dataframe thead th {\n",
              "        text-align: right;\n",
              "    }\n",
              "</style>\n",
              "<table border=\"1\" class=\"dataframe\">\n",
              "  <thead>\n",
              "    <tr style=\"text-align: right;\">\n",
              "      <th></th>\n",
              "      <th>Age</th>\n",
              "      <th>Attrition</th>\n",
              "      <th>BusinessTravel</th>\n",
              "      <th>Department</th>\n",
              "      <th>DistanceFromHome</th>\n",
              "      <th>Education</th>\n",
              "      <th>EducationField</th>\n",
              "      <th>EmployeeCount</th>\n",
              "      <th>EmployeeID</th>\n",
              "      <th>Gender</th>\n",
              "      <th>...</th>\n",
              "      <th>NumCompaniesWorked</th>\n",
              "      <th>Over18</th>\n",
              "      <th>PercentSalaryHike</th>\n",
              "      <th>StandardHours</th>\n",
              "      <th>StockOptionLevel</th>\n",
              "      <th>TotalWorkingYears</th>\n",
              "      <th>TrainingTimesLastYear</th>\n",
              "      <th>YearsAtCompany</th>\n",
              "      <th>YearsSinceLastPromotion</th>\n",
              "      <th>YearsWithCurrManager</th>\n",
              "    </tr>\n",
              "  </thead>\n",
              "  <tbody>\n",
              "    <tr>\n",
              "      <th>0</th>\n",
              "      <td>51</td>\n",
              "      <td>No</td>\n",
              "      <td>Travel_Rarely</td>\n",
              "      <td>Sales</td>\n",
              "      <td>6</td>\n",
              "      <td>2</td>\n",
              "      <td>Life Sciences</td>\n",
              "      <td>1</td>\n",
              "      <td>1</td>\n",
              "      <td>Female</td>\n",
              "      <td>...</td>\n",
              "      <td>1.0</td>\n",
              "      <td>Y</td>\n",
              "      <td>11</td>\n",
              "      <td>8</td>\n",
              "      <td>0</td>\n",
              "      <td>1.0</td>\n",
              "      <td>6</td>\n",
              "      <td>1</td>\n",
              "      <td>0</td>\n",
              "      <td>0</td>\n",
              "    </tr>\n",
              "    <tr>\n",
              "      <th>1</th>\n",
              "      <td>31</td>\n",
              "      <td>Yes</td>\n",
              "      <td>Travel_Frequently</td>\n",
              "      <td>Research &amp; Development</td>\n",
              "      <td>10</td>\n",
              "      <td>1</td>\n",
              "      <td>Life Sciences</td>\n",
              "      <td>1</td>\n",
              "      <td>2</td>\n",
              "      <td>Female</td>\n",
              "      <td>...</td>\n",
              "      <td>0.0</td>\n",
              "      <td>Y</td>\n",
              "      <td>23</td>\n",
              "      <td>8</td>\n",
              "      <td>1</td>\n",
              "      <td>6.0</td>\n",
              "      <td>3</td>\n",
              "      <td>5</td>\n",
              "      <td>1</td>\n",
              "      <td>4</td>\n",
              "    </tr>\n",
              "    <tr>\n",
              "      <th>2</th>\n",
              "      <td>32</td>\n",
              "      <td>No</td>\n",
              "      <td>Travel_Frequently</td>\n",
              "      <td>Research &amp; Development</td>\n",
              "      <td>17</td>\n",
              "      <td>4</td>\n",
              "      <td>Other</td>\n",
              "      <td>1</td>\n",
              "      <td>3</td>\n",
              "      <td>Male</td>\n",
              "      <td>...</td>\n",
              "      <td>1.0</td>\n",
              "      <td>Y</td>\n",
              "      <td>15</td>\n",
              "      <td>8</td>\n",
              "      <td>3</td>\n",
              "      <td>5.0</td>\n",
              "      <td>2</td>\n",
              "      <td>5</td>\n",
              "      <td>0</td>\n",
              "      <td>3</td>\n",
              "    </tr>\n",
              "    <tr>\n",
              "      <th>3</th>\n",
              "      <td>38</td>\n",
              "      <td>No</td>\n",
              "      <td>Non-Travel</td>\n",
              "      <td>Research &amp; Development</td>\n",
              "      <td>2</td>\n",
              "      <td>5</td>\n",
              "      <td>Life Sciences</td>\n",
              "      <td>1</td>\n",
              "      <td>4</td>\n",
              "      <td>Male</td>\n",
              "      <td>...</td>\n",
              "      <td>3.0</td>\n",
              "      <td>Y</td>\n",
              "      <td>11</td>\n",
              "      <td>8</td>\n",
              "      <td>3</td>\n",
              "      <td>13.0</td>\n",
              "      <td>5</td>\n",
              "      <td>8</td>\n",
              "      <td>7</td>\n",
              "      <td>5</td>\n",
              "    </tr>\n",
              "    <tr>\n",
              "      <th>4</th>\n",
              "      <td>32</td>\n",
              "      <td>No</td>\n",
              "      <td>Travel_Rarely</td>\n",
              "      <td>Research &amp; Development</td>\n",
              "      <td>10</td>\n",
              "      <td>1</td>\n",
              "      <td>Medical</td>\n",
              "      <td>1</td>\n",
              "      <td>5</td>\n",
              "      <td>Male</td>\n",
              "      <td>...</td>\n",
              "      <td>4.0</td>\n",
              "      <td>Y</td>\n",
              "      <td>12</td>\n",
              "      <td>8</td>\n",
              "      <td>2</td>\n",
              "      <td>9.0</td>\n",
              "      <td>2</td>\n",
              "      <td>6</td>\n",
              "      <td>0</td>\n",
              "      <td>4</td>\n",
              "    </tr>\n",
              "  </tbody>\n",
              "</table>\n",
              "<p>5 rows × 24 columns</p>\n",
              "</div>\n",
              "      <button class=\"colab-df-convert\" onclick=\"convertToInteractive('df-a3b8cd52-f116-4af0-a4bd-74950e4eda2d')\"\n",
              "              title=\"Convert this dataframe to an interactive table.\"\n",
              "              style=\"display:none;\">\n",
              "        \n",
              "  <svg xmlns=\"http://www.w3.org/2000/svg\" height=\"24px\"viewBox=\"0 0 24 24\"\n",
              "       width=\"24px\">\n",
              "    <path d=\"M0 0h24v24H0V0z\" fill=\"none\"/>\n",
              "    <path d=\"M18.56 5.44l.94 2.06.94-2.06 2.06-.94-2.06-.94-.94-2.06-.94 2.06-2.06.94zm-11 1L8.5 8.5l.94-2.06 2.06-.94-2.06-.94L8.5 2.5l-.94 2.06-2.06.94zm10 10l.94 2.06.94-2.06 2.06-.94-2.06-.94-.94-2.06-.94 2.06-2.06.94z\"/><path d=\"M17.41 7.96l-1.37-1.37c-.4-.4-.92-.59-1.43-.59-.52 0-1.04.2-1.43.59L10.3 9.45l-7.72 7.72c-.78.78-.78 2.05 0 2.83L4 21.41c.39.39.9.59 1.41.59.51 0 1.02-.2 1.41-.59l7.78-7.78 2.81-2.81c.8-.78.8-2.07 0-2.86zM5.41 20L4 18.59l7.72-7.72 1.47 1.35L5.41 20z\"/>\n",
              "  </svg>\n",
              "      </button>\n",
              "      \n",
              "  <style>\n",
              "    .colab-df-container {\n",
              "      display:flex;\n",
              "      flex-wrap:wrap;\n",
              "      gap: 12px;\n",
              "    }\n",
              "\n",
              "    .colab-df-convert {\n",
              "      background-color: #E8F0FE;\n",
              "      border: none;\n",
              "      border-radius: 50%;\n",
              "      cursor: pointer;\n",
              "      display: none;\n",
              "      fill: #1967D2;\n",
              "      height: 32px;\n",
              "      padding: 0 0 0 0;\n",
              "      width: 32px;\n",
              "    }\n",
              "\n",
              "    .colab-df-convert:hover {\n",
              "      background-color: #E2EBFA;\n",
              "      box-shadow: 0px 1px 2px rgba(60, 64, 67, 0.3), 0px 1px 3px 1px rgba(60, 64, 67, 0.15);\n",
              "      fill: #174EA6;\n",
              "    }\n",
              "\n",
              "    [theme=dark] .colab-df-convert {\n",
              "      background-color: #3B4455;\n",
              "      fill: #D2E3FC;\n",
              "    }\n",
              "\n",
              "    [theme=dark] .colab-df-convert:hover {\n",
              "      background-color: #434B5C;\n",
              "      box-shadow: 0px 1px 3px 1px rgba(0, 0, 0, 0.15);\n",
              "      filter: drop-shadow(0px 1px 2px rgba(0, 0, 0, 0.3));\n",
              "      fill: #FFFFFF;\n",
              "    }\n",
              "  </style>\n",
              "\n",
              "      <script>\n",
              "        const buttonEl =\n",
              "          document.querySelector('#df-a3b8cd52-f116-4af0-a4bd-74950e4eda2d button.colab-df-convert');\n",
              "        buttonEl.style.display =\n",
              "          google.colab.kernel.accessAllowed ? 'block' : 'none';\n",
              "\n",
              "        async function convertToInteractive(key) {\n",
              "          const element = document.querySelector('#df-a3b8cd52-f116-4af0-a4bd-74950e4eda2d');\n",
              "          const dataTable =\n",
              "            await google.colab.kernel.invokeFunction('convertToInteractive',\n",
              "                                                     [key], {});\n",
              "          if (!dataTable) return;\n",
              "\n",
              "          const docLinkHtml = 'Like what you see? Visit the ' +\n",
              "            '<a target=\"_blank\" href=https://colab.research.google.com/notebooks/data_table.ipynb>data table notebook</a>'\n",
              "            + ' to learn more about interactive tables.';\n",
              "          element.innerHTML = '';\n",
              "          dataTable['output_type'] = 'display_data';\n",
              "          await google.colab.output.renderOutput(dataTable, element);\n",
              "          const docLink = document.createElement('div');\n",
              "          docLink.innerHTML = docLinkHtml;\n",
              "          element.appendChild(docLink);\n",
              "        }\n",
              "      </script>\n",
              "    </div>\n",
              "  </div>\n",
              "  "
            ]
          },
          "metadata": {},
          "execution_count": 2
        }
      ]
    },
    {
      "cell_type": "code",
      "source": [
        "data.drop([\"EmployeeCount\",\"EmployeeID\",\"StandardHours\"], axis=1, inplace=True)\n"
      ],
      "metadata": {
        "id": "qUrEC5KiREj_",
        "outputId": "273f9515-ff66-4a9d-b322-a08b9f03d3f3",
        "colab": {
          "base_uri": "https://localhost:8080/",
          "height": 328
        }
      },
      "execution_count": 5,
      "outputs": [
        {
          "output_type": "error",
          "ename": "KeyError",
          "evalue": "ignored",
          "traceback": [
            "\u001b[0;31m---------------------------------------------------------------------------\u001b[0m",
            "\u001b[0;31mKeyError\u001b[0m                                  Traceback (most recent call last)",
            "\u001b[0;32m<ipython-input-5-c1e982d2a13d>\u001b[0m in \u001b[0;36m<module>\u001b[0;34m\u001b[0m\n\u001b[0;32m----> 1\u001b[0;31m \u001b[0mdata\u001b[0m\u001b[0;34m.\u001b[0m\u001b[0mdrop\u001b[0m\u001b[0;34m(\u001b[0m\u001b[0;34m[\u001b[0m\u001b[0;34m\"EmployeeCount\"\u001b[0m\u001b[0;34m,\u001b[0m\u001b[0;34m\"EmployeeID\"\u001b[0m\u001b[0;34m,\u001b[0m\u001b[0;34m\"StandardHours\"\u001b[0m\u001b[0;34m]\u001b[0m\u001b[0;34m,\u001b[0m \u001b[0maxis\u001b[0m\u001b[0;34m=\u001b[0m\u001b[0;36m1\u001b[0m\u001b[0;34m,\u001b[0m \u001b[0minplace\u001b[0m\u001b[0;34m=\u001b[0m\u001b[0;32mTrue\u001b[0m\u001b[0;34m)\u001b[0m\u001b[0;34m\u001b[0m\u001b[0;34m\u001b[0m\u001b[0m\n\u001b[0m\u001b[1;32m      2\u001b[0m \u001b[0mdata\u001b[0m\u001b[0;34m.\u001b[0m\u001b[0mhead\u001b[0m\u001b[0;34m(\u001b[0m\u001b[0;34m)\u001b[0m\u001b[0;34m\u001b[0m\u001b[0;34m\u001b[0m\u001b[0m\n",
            "\u001b[0;32m/usr/local/lib/python3.7/dist-packages/pandas/util/_decorators.py\u001b[0m in \u001b[0;36mwrapper\u001b[0;34m(*args, **kwargs)\u001b[0m\n\u001b[1;32m    309\u001b[0m                     \u001b[0mstacklevel\u001b[0m\u001b[0;34m=\u001b[0m\u001b[0mstacklevel\u001b[0m\u001b[0;34m,\u001b[0m\u001b[0;34m\u001b[0m\u001b[0;34m\u001b[0m\u001b[0m\n\u001b[1;32m    310\u001b[0m                 )\n\u001b[0;32m--> 311\u001b[0;31m             \u001b[0;32mreturn\u001b[0m \u001b[0mfunc\u001b[0m\u001b[0;34m(\u001b[0m\u001b[0;34m*\u001b[0m\u001b[0margs\u001b[0m\u001b[0;34m,\u001b[0m \u001b[0;34m**\u001b[0m\u001b[0mkwargs\u001b[0m\u001b[0;34m)\u001b[0m\u001b[0;34m\u001b[0m\u001b[0;34m\u001b[0m\u001b[0m\n\u001b[0m\u001b[1;32m    312\u001b[0m \u001b[0;34m\u001b[0m\u001b[0m\n\u001b[1;32m    313\u001b[0m         \u001b[0;32mreturn\u001b[0m \u001b[0mwrapper\u001b[0m\u001b[0;34m\u001b[0m\u001b[0;34m\u001b[0m\u001b[0m\n",
            "\u001b[0;32m/usr/local/lib/python3.7/dist-packages/pandas/core/frame.py\u001b[0m in \u001b[0;36mdrop\u001b[0;34m(self, labels, axis, index, columns, level, inplace, errors)\u001b[0m\n\u001b[1;32m   4911\u001b[0m             \u001b[0mlevel\u001b[0m\u001b[0;34m=\u001b[0m\u001b[0mlevel\u001b[0m\u001b[0;34m,\u001b[0m\u001b[0;34m\u001b[0m\u001b[0;34m\u001b[0m\u001b[0m\n\u001b[1;32m   4912\u001b[0m             \u001b[0minplace\u001b[0m\u001b[0;34m=\u001b[0m\u001b[0minplace\u001b[0m\u001b[0;34m,\u001b[0m\u001b[0;34m\u001b[0m\u001b[0;34m\u001b[0m\u001b[0m\n\u001b[0;32m-> 4913\u001b[0;31m             \u001b[0merrors\u001b[0m\u001b[0;34m=\u001b[0m\u001b[0merrors\u001b[0m\u001b[0;34m,\u001b[0m\u001b[0;34m\u001b[0m\u001b[0;34m\u001b[0m\u001b[0m\n\u001b[0m\u001b[1;32m   4914\u001b[0m         )\n\u001b[1;32m   4915\u001b[0m \u001b[0;34m\u001b[0m\u001b[0m\n",
            "\u001b[0;32m/usr/local/lib/python3.7/dist-packages/pandas/core/generic.py\u001b[0m in \u001b[0;36mdrop\u001b[0;34m(self, labels, axis, index, columns, level, inplace, errors)\u001b[0m\n\u001b[1;32m   4148\u001b[0m         \u001b[0;32mfor\u001b[0m \u001b[0maxis\u001b[0m\u001b[0;34m,\u001b[0m \u001b[0mlabels\u001b[0m \u001b[0;32min\u001b[0m \u001b[0maxes\u001b[0m\u001b[0;34m.\u001b[0m\u001b[0mitems\u001b[0m\u001b[0;34m(\u001b[0m\u001b[0;34m)\u001b[0m\u001b[0;34m:\u001b[0m\u001b[0;34m\u001b[0m\u001b[0;34m\u001b[0m\u001b[0m\n\u001b[1;32m   4149\u001b[0m             \u001b[0;32mif\u001b[0m \u001b[0mlabels\u001b[0m \u001b[0;32mis\u001b[0m \u001b[0;32mnot\u001b[0m \u001b[0;32mNone\u001b[0m\u001b[0;34m:\u001b[0m\u001b[0;34m\u001b[0m\u001b[0;34m\u001b[0m\u001b[0m\n\u001b[0;32m-> 4150\u001b[0;31m                 \u001b[0mobj\u001b[0m \u001b[0;34m=\u001b[0m \u001b[0mobj\u001b[0m\u001b[0;34m.\u001b[0m\u001b[0m_drop_axis\u001b[0m\u001b[0;34m(\u001b[0m\u001b[0mlabels\u001b[0m\u001b[0;34m,\u001b[0m \u001b[0maxis\u001b[0m\u001b[0;34m,\u001b[0m \u001b[0mlevel\u001b[0m\u001b[0;34m=\u001b[0m\u001b[0mlevel\u001b[0m\u001b[0;34m,\u001b[0m \u001b[0merrors\u001b[0m\u001b[0;34m=\u001b[0m\u001b[0merrors\u001b[0m\u001b[0;34m)\u001b[0m\u001b[0;34m\u001b[0m\u001b[0;34m\u001b[0m\u001b[0m\n\u001b[0m\u001b[1;32m   4151\u001b[0m \u001b[0;34m\u001b[0m\u001b[0m\n\u001b[1;32m   4152\u001b[0m         \u001b[0;32mif\u001b[0m \u001b[0minplace\u001b[0m\u001b[0;34m:\u001b[0m\u001b[0;34m\u001b[0m\u001b[0;34m\u001b[0m\u001b[0m\n",
            "\u001b[0;32m/usr/local/lib/python3.7/dist-packages/pandas/core/generic.py\u001b[0m in \u001b[0;36m_drop_axis\u001b[0;34m(self, labels, axis, level, errors)\u001b[0m\n\u001b[1;32m   4183\u001b[0m                 \u001b[0mnew_axis\u001b[0m \u001b[0;34m=\u001b[0m \u001b[0maxis\u001b[0m\u001b[0;34m.\u001b[0m\u001b[0mdrop\u001b[0m\u001b[0;34m(\u001b[0m\u001b[0mlabels\u001b[0m\u001b[0;34m,\u001b[0m \u001b[0mlevel\u001b[0m\u001b[0;34m=\u001b[0m\u001b[0mlevel\u001b[0m\u001b[0;34m,\u001b[0m \u001b[0merrors\u001b[0m\u001b[0;34m=\u001b[0m\u001b[0merrors\u001b[0m\u001b[0;34m)\u001b[0m\u001b[0;34m\u001b[0m\u001b[0;34m\u001b[0m\u001b[0m\n\u001b[1;32m   4184\u001b[0m             \u001b[0;32melse\u001b[0m\u001b[0;34m:\u001b[0m\u001b[0;34m\u001b[0m\u001b[0;34m\u001b[0m\u001b[0m\n\u001b[0;32m-> 4185\u001b[0;31m                 \u001b[0mnew_axis\u001b[0m \u001b[0;34m=\u001b[0m \u001b[0maxis\u001b[0m\u001b[0;34m.\u001b[0m\u001b[0mdrop\u001b[0m\u001b[0;34m(\u001b[0m\u001b[0mlabels\u001b[0m\u001b[0;34m,\u001b[0m \u001b[0merrors\u001b[0m\u001b[0;34m=\u001b[0m\u001b[0merrors\u001b[0m\u001b[0;34m)\u001b[0m\u001b[0;34m\u001b[0m\u001b[0;34m\u001b[0m\u001b[0m\n\u001b[0m\u001b[1;32m   4186\u001b[0m             \u001b[0mresult\u001b[0m \u001b[0;34m=\u001b[0m \u001b[0mself\u001b[0m\u001b[0;34m.\u001b[0m\u001b[0mreindex\u001b[0m\u001b[0;34m(\u001b[0m\u001b[0;34m**\u001b[0m\u001b[0;34m{\u001b[0m\u001b[0maxis_name\u001b[0m\u001b[0;34m:\u001b[0m \u001b[0mnew_axis\u001b[0m\u001b[0;34m}\u001b[0m\u001b[0;34m)\u001b[0m\u001b[0;34m\u001b[0m\u001b[0;34m\u001b[0m\u001b[0m\n\u001b[1;32m   4187\u001b[0m \u001b[0;34m\u001b[0m\u001b[0m\n",
            "\u001b[0;32m/usr/local/lib/python3.7/dist-packages/pandas/core/indexes/base.py\u001b[0m in \u001b[0;36mdrop\u001b[0;34m(self, labels, errors)\u001b[0m\n\u001b[1;32m   6015\u001b[0m         \u001b[0;32mif\u001b[0m \u001b[0mmask\u001b[0m\u001b[0;34m.\u001b[0m\u001b[0many\u001b[0m\u001b[0;34m(\u001b[0m\u001b[0;34m)\u001b[0m\u001b[0;34m:\u001b[0m\u001b[0;34m\u001b[0m\u001b[0;34m\u001b[0m\u001b[0m\n\u001b[1;32m   6016\u001b[0m             \u001b[0;32mif\u001b[0m \u001b[0merrors\u001b[0m \u001b[0;34m!=\u001b[0m \u001b[0;34m\"ignore\"\u001b[0m\u001b[0;34m:\u001b[0m\u001b[0;34m\u001b[0m\u001b[0;34m\u001b[0m\u001b[0m\n\u001b[0;32m-> 6017\u001b[0;31m                 \u001b[0;32mraise\u001b[0m \u001b[0mKeyError\u001b[0m\u001b[0;34m(\u001b[0m\u001b[0;34mf\"{labels[mask]} not found in axis\"\u001b[0m\u001b[0;34m)\u001b[0m\u001b[0;34m\u001b[0m\u001b[0;34m\u001b[0m\u001b[0m\n\u001b[0m\u001b[1;32m   6018\u001b[0m             \u001b[0mindexer\u001b[0m \u001b[0;34m=\u001b[0m \u001b[0mindexer\u001b[0m\u001b[0;34m[\u001b[0m\u001b[0;34m~\u001b[0m\u001b[0mmask\u001b[0m\u001b[0;34m]\u001b[0m\u001b[0;34m\u001b[0m\u001b[0;34m\u001b[0m\u001b[0m\n\u001b[1;32m   6019\u001b[0m         \u001b[0;32mreturn\u001b[0m \u001b[0mself\u001b[0m\u001b[0;34m.\u001b[0m\u001b[0mdelete\u001b[0m\u001b[0;34m(\u001b[0m\u001b[0mindexer\u001b[0m\u001b[0;34m)\u001b[0m\u001b[0;34m\u001b[0m\u001b[0;34m\u001b[0m\u001b[0m\n",
            "\u001b[0;31mKeyError\u001b[0m: \"['EmployeeCount' 'EmployeeID' 'StandardHours'] not found in axis\""
          ]
        }
      ]
    },
    {
      "cell_type": "code",
      "source": [
        "data.head()"
      ],
      "metadata": {
        "id": "w5c1On2MR5qc",
        "outputId": "11686a03-520b-497c-8881-5278b6259961",
        "colab": {
          "base_uri": "https://localhost:8080/",
          "height": 386
        }
      },
      "execution_count": 6,
      "outputs": [
        {
          "output_type": "execute_result",
          "data": {
            "text/plain": [
              "   Age Attrition     BusinessTravel              Department  DistanceFromHome  \\\n",
              "0   51        No      Travel_Rarely                   Sales                 6   \n",
              "1   31       Yes  Travel_Frequently  Research & Development                10   \n",
              "2   32        No  Travel_Frequently  Research & Development                17   \n",
              "3   38        No         Non-Travel  Research & Development                 2   \n",
              "4   32        No      Travel_Rarely  Research & Development                10   \n",
              "\n",
              "   Education EducationField  Gender  JobLevel                    JobRole  ...  \\\n",
              "0          2  Life Sciences  Female         1  Healthcare Representative  ...   \n",
              "1          1  Life Sciences  Female         1         Research Scientist  ...   \n",
              "2          4          Other    Male         4            Sales Executive  ...   \n",
              "3          5  Life Sciences    Male         3            Human Resources  ...   \n",
              "4          1        Medical    Male         1            Sales Executive  ...   \n",
              "\n",
              "  MonthlyIncome  NumCompaniesWorked  Over18 PercentSalaryHike  \\\n",
              "0        131160                 1.0       Y                11   \n",
              "1         41890                 0.0       Y                23   \n",
              "2        193280                 1.0       Y                15   \n",
              "3         83210                 3.0       Y                11   \n",
              "4         23420                 4.0       Y                12   \n",
              "\n",
              "   StockOptionLevel  TotalWorkingYears  TrainingTimesLastYear  YearsAtCompany  \\\n",
              "0                 0                1.0                      6               1   \n",
              "1                 1                6.0                      3               5   \n",
              "2                 3                5.0                      2               5   \n",
              "3                 3               13.0                      5               8   \n",
              "4                 2                9.0                      2               6   \n",
              "\n",
              "   YearsSinceLastPromotion  YearsWithCurrManager  \n",
              "0                        0                     0  \n",
              "1                        1                     4  \n",
              "2                        0                     3  \n",
              "3                        7                     5  \n",
              "4                        0                     4  \n",
              "\n",
              "[5 rows x 21 columns]"
            ],
            "text/html": [
              "\n",
              "  <div id=\"df-6b639b2e-5e10-42e5-8587-306b632c95ac\">\n",
              "    <div class=\"colab-df-container\">\n",
              "      <div>\n",
              "<style scoped>\n",
              "    .dataframe tbody tr th:only-of-type {\n",
              "        vertical-align: middle;\n",
              "    }\n",
              "\n",
              "    .dataframe tbody tr th {\n",
              "        vertical-align: top;\n",
              "    }\n",
              "\n",
              "    .dataframe thead th {\n",
              "        text-align: right;\n",
              "    }\n",
              "</style>\n",
              "<table border=\"1\" class=\"dataframe\">\n",
              "  <thead>\n",
              "    <tr style=\"text-align: right;\">\n",
              "      <th></th>\n",
              "      <th>Age</th>\n",
              "      <th>Attrition</th>\n",
              "      <th>BusinessTravel</th>\n",
              "      <th>Department</th>\n",
              "      <th>DistanceFromHome</th>\n",
              "      <th>Education</th>\n",
              "      <th>EducationField</th>\n",
              "      <th>Gender</th>\n",
              "      <th>JobLevel</th>\n",
              "      <th>JobRole</th>\n",
              "      <th>...</th>\n",
              "      <th>MonthlyIncome</th>\n",
              "      <th>NumCompaniesWorked</th>\n",
              "      <th>Over18</th>\n",
              "      <th>PercentSalaryHike</th>\n",
              "      <th>StockOptionLevel</th>\n",
              "      <th>TotalWorkingYears</th>\n",
              "      <th>TrainingTimesLastYear</th>\n",
              "      <th>YearsAtCompany</th>\n",
              "      <th>YearsSinceLastPromotion</th>\n",
              "      <th>YearsWithCurrManager</th>\n",
              "    </tr>\n",
              "  </thead>\n",
              "  <tbody>\n",
              "    <tr>\n",
              "      <th>0</th>\n",
              "      <td>51</td>\n",
              "      <td>No</td>\n",
              "      <td>Travel_Rarely</td>\n",
              "      <td>Sales</td>\n",
              "      <td>6</td>\n",
              "      <td>2</td>\n",
              "      <td>Life Sciences</td>\n",
              "      <td>Female</td>\n",
              "      <td>1</td>\n",
              "      <td>Healthcare Representative</td>\n",
              "      <td>...</td>\n",
              "      <td>131160</td>\n",
              "      <td>1.0</td>\n",
              "      <td>Y</td>\n",
              "      <td>11</td>\n",
              "      <td>0</td>\n",
              "      <td>1.0</td>\n",
              "      <td>6</td>\n",
              "      <td>1</td>\n",
              "      <td>0</td>\n",
              "      <td>0</td>\n",
              "    </tr>\n",
              "    <tr>\n",
              "      <th>1</th>\n",
              "      <td>31</td>\n",
              "      <td>Yes</td>\n",
              "      <td>Travel_Frequently</td>\n",
              "      <td>Research &amp; Development</td>\n",
              "      <td>10</td>\n",
              "      <td>1</td>\n",
              "      <td>Life Sciences</td>\n",
              "      <td>Female</td>\n",
              "      <td>1</td>\n",
              "      <td>Research Scientist</td>\n",
              "      <td>...</td>\n",
              "      <td>41890</td>\n",
              "      <td>0.0</td>\n",
              "      <td>Y</td>\n",
              "      <td>23</td>\n",
              "      <td>1</td>\n",
              "      <td>6.0</td>\n",
              "      <td>3</td>\n",
              "      <td>5</td>\n",
              "      <td>1</td>\n",
              "      <td>4</td>\n",
              "    </tr>\n",
              "    <tr>\n",
              "      <th>2</th>\n",
              "      <td>32</td>\n",
              "      <td>No</td>\n",
              "      <td>Travel_Frequently</td>\n",
              "      <td>Research &amp; Development</td>\n",
              "      <td>17</td>\n",
              "      <td>4</td>\n",
              "      <td>Other</td>\n",
              "      <td>Male</td>\n",
              "      <td>4</td>\n",
              "      <td>Sales Executive</td>\n",
              "      <td>...</td>\n",
              "      <td>193280</td>\n",
              "      <td>1.0</td>\n",
              "      <td>Y</td>\n",
              "      <td>15</td>\n",
              "      <td>3</td>\n",
              "      <td>5.0</td>\n",
              "      <td>2</td>\n",
              "      <td>5</td>\n",
              "      <td>0</td>\n",
              "      <td>3</td>\n",
              "    </tr>\n",
              "    <tr>\n",
              "      <th>3</th>\n",
              "      <td>38</td>\n",
              "      <td>No</td>\n",
              "      <td>Non-Travel</td>\n",
              "      <td>Research &amp; Development</td>\n",
              "      <td>2</td>\n",
              "      <td>5</td>\n",
              "      <td>Life Sciences</td>\n",
              "      <td>Male</td>\n",
              "      <td>3</td>\n",
              "      <td>Human Resources</td>\n",
              "      <td>...</td>\n",
              "      <td>83210</td>\n",
              "      <td>3.0</td>\n",
              "      <td>Y</td>\n",
              "      <td>11</td>\n",
              "      <td>3</td>\n",
              "      <td>13.0</td>\n",
              "      <td>5</td>\n",
              "      <td>8</td>\n",
              "      <td>7</td>\n",
              "      <td>5</td>\n",
              "    </tr>\n",
              "    <tr>\n",
              "      <th>4</th>\n",
              "      <td>32</td>\n",
              "      <td>No</td>\n",
              "      <td>Travel_Rarely</td>\n",
              "      <td>Research &amp; Development</td>\n",
              "      <td>10</td>\n",
              "      <td>1</td>\n",
              "      <td>Medical</td>\n",
              "      <td>Male</td>\n",
              "      <td>1</td>\n",
              "      <td>Sales Executive</td>\n",
              "      <td>...</td>\n",
              "      <td>23420</td>\n",
              "      <td>4.0</td>\n",
              "      <td>Y</td>\n",
              "      <td>12</td>\n",
              "      <td>2</td>\n",
              "      <td>9.0</td>\n",
              "      <td>2</td>\n",
              "      <td>6</td>\n",
              "      <td>0</td>\n",
              "      <td>4</td>\n",
              "    </tr>\n",
              "  </tbody>\n",
              "</table>\n",
              "<p>5 rows × 21 columns</p>\n",
              "</div>\n",
              "      <button class=\"colab-df-convert\" onclick=\"convertToInteractive('df-6b639b2e-5e10-42e5-8587-306b632c95ac')\"\n",
              "              title=\"Convert this dataframe to an interactive table.\"\n",
              "              style=\"display:none;\">\n",
              "        \n",
              "  <svg xmlns=\"http://www.w3.org/2000/svg\" height=\"24px\"viewBox=\"0 0 24 24\"\n",
              "       width=\"24px\">\n",
              "    <path d=\"M0 0h24v24H0V0z\" fill=\"none\"/>\n",
              "    <path d=\"M18.56 5.44l.94 2.06.94-2.06 2.06-.94-2.06-.94-.94-2.06-.94 2.06-2.06.94zm-11 1L8.5 8.5l.94-2.06 2.06-.94-2.06-.94L8.5 2.5l-.94 2.06-2.06.94zm10 10l.94 2.06.94-2.06 2.06-.94-2.06-.94-.94-2.06-.94 2.06-2.06.94z\"/><path d=\"M17.41 7.96l-1.37-1.37c-.4-.4-.92-.59-1.43-.59-.52 0-1.04.2-1.43.59L10.3 9.45l-7.72 7.72c-.78.78-.78 2.05 0 2.83L4 21.41c.39.39.9.59 1.41.59.51 0 1.02-.2 1.41-.59l7.78-7.78 2.81-2.81c.8-.78.8-2.07 0-2.86zM5.41 20L4 18.59l7.72-7.72 1.47 1.35L5.41 20z\"/>\n",
              "  </svg>\n",
              "      </button>\n",
              "      \n",
              "  <style>\n",
              "    .colab-df-container {\n",
              "      display:flex;\n",
              "      flex-wrap:wrap;\n",
              "      gap: 12px;\n",
              "    }\n",
              "\n",
              "    .colab-df-convert {\n",
              "      background-color: #E8F0FE;\n",
              "      border: none;\n",
              "      border-radius: 50%;\n",
              "      cursor: pointer;\n",
              "      display: none;\n",
              "      fill: #1967D2;\n",
              "      height: 32px;\n",
              "      padding: 0 0 0 0;\n",
              "      width: 32px;\n",
              "    }\n",
              "\n",
              "    .colab-df-convert:hover {\n",
              "      background-color: #E2EBFA;\n",
              "      box-shadow: 0px 1px 2px rgba(60, 64, 67, 0.3), 0px 1px 3px 1px rgba(60, 64, 67, 0.15);\n",
              "      fill: #174EA6;\n",
              "    }\n",
              "\n",
              "    [theme=dark] .colab-df-convert {\n",
              "      background-color: #3B4455;\n",
              "      fill: #D2E3FC;\n",
              "    }\n",
              "\n",
              "    [theme=dark] .colab-df-convert:hover {\n",
              "      background-color: #434B5C;\n",
              "      box-shadow: 0px 1px 3px 1px rgba(0, 0, 0, 0.15);\n",
              "      filter: drop-shadow(0px 1px 2px rgba(0, 0, 0, 0.3));\n",
              "      fill: #FFFFFF;\n",
              "    }\n",
              "  </style>\n",
              "\n",
              "      <script>\n",
              "        const buttonEl =\n",
              "          document.querySelector('#df-6b639b2e-5e10-42e5-8587-306b632c95ac button.colab-df-convert');\n",
              "        buttonEl.style.display =\n",
              "          google.colab.kernel.accessAllowed ? 'block' : 'none';\n",
              "\n",
              "        async function convertToInteractive(key) {\n",
              "          const element = document.querySelector('#df-6b639b2e-5e10-42e5-8587-306b632c95ac');\n",
              "          const dataTable =\n",
              "            await google.colab.kernel.invokeFunction('convertToInteractive',\n",
              "                                                     [key], {});\n",
              "          if (!dataTable) return;\n",
              "\n",
              "          const docLinkHtml = 'Like what you see? Visit the ' +\n",
              "            '<a target=\"_blank\" href=https://colab.research.google.com/notebooks/data_table.ipynb>data table notebook</a>'\n",
              "            + ' to learn more about interactive tables.';\n",
              "          element.innerHTML = '';\n",
              "          dataTable['output_type'] = 'display_data';\n",
              "          await google.colab.output.renderOutput(dataTable, element);\n",
              "          const docLink = document.createElement('div');\n",
              "          docLink.innerHTML = docLinkHtml;\n",
              "          element.appendChild(docLink);\n",
              "        }\n",
              "      </script>\n",
              "    </div>\n",
              "  </div>\n",
              "  "
            ]
          },
          "metadata": {},
          "execution_count": 6
        }
      ]
    },
    {
      "cell_type": "markdown",
      "source": [
        "## 2-VAZIFA: Qaysi ustunlarda nechtadan null qiymatlar borligini aniqlang\n",
        "### - o'sha ustunlardagi kataklarni 0 qiymati bilan to'ldiring.\n"
      ],
      "metadata": {
        "id": "rOEiPT855hfG"
      }
    },
    {
      "cell_type": "code",
      "source": [
        "# JAVOBNI SHUYERGA YOZING\n",
        "data.fillna(0, inplace=True)"
      ],
      "metadata": {
        "id": "iyDLfCeK6Axw"
      },
      "execution_count": 8,
      "outputs": []
    },
    {
      "cell_type": "code",
      "source": [
        ""
      ],
      "metadata": {
        "id": "7OlsHvpESvmE"
      },
      "execution_count": 10,
      "outputs": []
    },
    {
      "cell_type": "markdown",
      "source": [
        "## 3-VAZIFA: Barcha ustunlardagi o'zaro korrelatsiyasini aniqlang\n",
        "### - hamda heatmap orqali 16:10 o'lchamda ekranga chiqaring \n"
      ],
      "metadata": {
        "id": "pnbIUjWQ6crL"
      }
    },
    {
      "cell_type": "code",
      "source": [
        "# JAVOBNI SHUYERGA YOZING\n",
        "data.corr()"
      ],
      "metadata": {
        "id": "twSCy4Re6djN",
        "outputId": "c7c719d9-2c30-49df-e697-7d308ecd87eb",
        "colab": {
          "base_uri": "https://localhost:8080/",
          "height": 521
        }
      },
      "execution_count": 11,
      "outputs": [
        {
          "output_type": "execute_result",
          "data": {
            "text/plain": [
              "                              Age  DistanceFromHome  Education  JobLevel  \\\n",
              "Age                      1.000000          0.006963  -0.035706 -0.002884   \n",
              "DistanceFromHome         0.006963          1.000000  -0.008638 -0.037329   \n",
              "Education               -0.035706         -0.008638   1.000000  0.045746   \n",
              "JobLevel                -0.002884         -0.037329   0.045746  1.000000   \n",
              "MonthlyIncome           -0.044314         -0.021607   0.006410  0.047316   \n",
              "NumCompaniesWorked       0.299297         -0.012617  -0.016096 -0.010877   \n",
              "PercentSalaryHike       -0.033137          0.038125  -0.040531  0.010973   \n",
              "StockOptionLevel        -0.031753          0.011169   0.001261  0.000993   \n",
              "TotalWorkingYears        0.678436          0.008925  -0.011581 -0.035498   \n",
              "TrainingTimesLastYear   -0.027308         -0.009001   0.010472 -0.032500   \n",
              "YearsAtCompany           0.311309          0.031684   0.006080 -0.064219   \n",
              "YearsSinceLastPromotion  0.216513          0.002290   0.022490 -0.060811   \n",
              "YearsWithCurrManager     0.202089          0.021584   0.005358 -0.055251   \n",
              "\n",
              "                         MonthlyIncome  NumCompaniesWorked  PercentSalaryHike  \\\n",
              "Age                          -0.044314            0.299297          -0.033137   \n",
              "DistanceFromHome             -0.021607           -0.012617           0.038125   \n",
              "Education                     0.006410           -0.016096          -0.040531   \n",
              "JobLevel                      0.047316           -0.010877           0.010973   \n",
              "MonthlyIncome                 1.000000           -0.019915           0.004325   \n",
              "NumCompaniesWorked           -0.019915            1.000000           0.031683   \n",
              "PercentSalaryHike             0.004325            0.031683           1.000000   \n",
              "StockOptionLevel              0.026930            0.017685           0.012548   \n",
              "TotalWorkingYears            -0.033694            0.237472          -0.019495   \n",
              "TrainingTimesLastYear         0.050112           -0.032123          -0.037392   \n",
              "YearsAtCompany                0.000995           -0.116322          -0.029707   \n",
              "YearsSinceLastPromotion       0.065219           -0.035421          -0.029542   \n",
              "YearsWithCurrManager          0.024304           -0.108223          -0.040864   \n",
              "\n",
              "                         StockOptionLevel  TotalWorkingYears  \\\n",
              "Age                             -0.031753           0.678436   \n",
              "DistanceFromHome                 0.011169           0.008925   \n",
              "Education                        0.001261          -0.011581   \n",
              "JobLevel                         0.000993          -0.035498   \n",
              "MonthlyIncome                    0.026930          -0.033694   \n",
              "NumCompaniesWorked               0.017685           0.237472   \n",
              "PercentSalaryHike                0.012548          -0.019495   \n",
              "StockOptionLevel                 1.000000           0.003128   \n",
              "TotalWorkingYears                0.003128           1.000000   \n",
              "TrainingTimesLastYear           -0.069902          -0.041842   \n",
              "YearsAtCompany                   0.007886           0.624468   \n",
              "YearsSinceLastPromotion          0.019063           0.403405   \n",
              "YearsWithCurrManager             0.017757           0.457363   \n",
              "\n",
              "                         TrainingTimesLastYear  YearsAtCompany  \\\n",
              "Age                                  -0.027308        0.311309   \n",
              "DistanceFromHome                     -0.009001        0.031684   \n",
              "Education                             0.010472        0.006080   \n",
              "JobLevel                             -0.032500       -0.064219   \n",
              "MonthlyIncome                         0.050112        0.000995   \n",
              "NumCompaniesWorked                   -0.032123       -0.116322   \n",
              "PercentSalaryHike                    -0.037392       -0.029707   \n",
              "StockOptionLevel                     -0.069902        0.007886   \n",
              "TotalWorkingYears                    -0.041842        0.624468   \n",
              "TrainingTimesLastYear                 1.000000       -0.007894   \n",
              "YearsAtCompany                       -0.007894        1.000000   \n",
              "YearsSinceLastPromotion               0.016121        0.618409   \n",
              "YearsWithCurrManager                 -0.013270        0.769212   \n",
              "\n",
              "                         YearsSinceLastPromotion  YearsWithCurrManager  \n",
              "Age                                     0.216513              0.202089  \n",
              "DistanceFromHome                        0.002290              0.021584  \n",
              "Education                               0.022490              0.005358  \n",
              "JobLevel                               -0.060811             -0.055251  \n",
              "MonthlyIncome                           0.065219              0.024304  \n",
              "NumCompaniesWorked                     -0.035421             -0.108223  \n",
              "PercentSalaryHike                      -0.029542             -0.040864  \n",
              "StockOptionLevel                        0.019063              0.017757  \n",
              "TotalWorkingYears                       0.403405              0.457363  \n",
              "TrainingTimesLastYear                   0.016121             -0.013270  \n",
              "YearsAtCompany                          0.618409              0.769212  \n",
              "YearsSinceLastPromotion                 1.000000              0.510224  \n",
              "YearsWithCurrManager                    0.510224              1.000000  "
            ],
            "text/html": [
              "\n",
              "  <div id=\"df-f5c03793-74dd-47ad-9747-23e018d922a7\">\n",
              "    <div class=\"colab-df-container\">\n",
              "      <div>\n",
              "<style scoped>\n",
              "    .dataframe tbody tr th:only-of-type {\n",
              "        vertical-align: middle;\n",
              "    }\n",
              "\n",
              "    .dataframe tbody tr th {\n",
              "        vertical-align: top;\n",
              "    }\n",
              "\n",
              "    .dataframe thead th {\n",
              "        text-align: right;\n",
              "    }\n",
              "</style>\n",
              "<table border=\"1\" class=\"dataframe\">\n",
              "  <thead>\n",
              "    <tr style=\"text-align: right;\">\n",
              "      <th></th>\n",
              "      <th>Age</th>\n",
              "      <th>DistanceFromHome</th>\n",
              "      <th>Education</th>\n",
              "      <th>JobLevel</th>\n",
              "      <th>MonthlyIncome</th>\n",
              "      <th>NumCompaniesWorked</th>\n",
              "      <th>PercentSalaryHike</th>\n",
              "      <th>StockOptionLevel</th>\n",
              "      <th>TotalWorkingYears</th>\n",
              "      <th>TrainingTimesLastYear</th>\n",
              "      <th>YearsAtCompany</th>\n",
              "      <th>YearsSinceLastPromotion</th>\n",
              "      <th>YearsWithCurrManager</th>\n",
              "    </tr>\n",
              "  </thead>\n",
              "  <tbody>\n",
              "    <tr>\n",
              "      <th>Age</th>\n",
              "      <td>1.000000</td>\n",
              "      <td>0.006963</td>\n",
              "      <td>-0.035706</td>\n",
              "      <td>-0.002884</td>\n",
              "      <td>-0.044314</td>\n",
              "      <td>0.299297</td>\n",
              "      <td>-0.033137</td>\n",
              "      <td>-0.031753</td>\n",
              "      <td>0.678436</td>\n",
              "      <td>-0.027308</td>\n",
              "      <td>0.311309</td>\n",
              "      <td>0.216513</td>\n",
              "      <td>0.202089</td>\n",
              "    </tr>\n",
              "    <tr>\n",
              "      <th>DistanceFromHome</th>\n",
              "      <td>0.006963</td>\n",
              "      <td>1.000000</td>\n",
              "      <td>-0.008638</td>\n",
              "      <td>-0.037329</td>\n",
              "      <td>-0.021607</td>\n",
              "      <td>-0.012617</td>\n",
              "      <td>0.038125</td>\n",
              "      <td>0.011169</td>\n",
              "      <td>0.008925</td>\n",
              "      <td>-0.009001</td>\n",
              "      <td>0.031684</td>\n",
              "      <td>0.002290</td>\n",
              "      <td>0.021584</td>\n",
              "    </tr>\n",
              "    <tr>\n",
              "      <th>Education</th>\n",
              "      <td>-0.035706</td>\n",
              "      <td>-0.008638</td>\n",
              "      <td>1.000000</td>\n",
              "      <td>0.045746</td>\n",
              "      <td>0.006410</td>\n",
              "      <td>-0.016096</td>\n",
              "      <td>-0.040531</td>\n",
              "      <td>0.001261</td>\n",
              "      <td>-0.011581</td>\n",
              "      <td>0.010472</td>\n",
              "      <td>0.006080</td>\n",
              "      <td>0.022490</td>\n",
              "      <td>0.005358</td>\n",
              "    </tr>\n",
              "    <tr>\n",
              "      <th>JobLevel</th>\n",
              "      <td>-0.002884</td>\n",
              "      <td>-0.037329</td>\n",
              "      <td>0.045746</td>\n",
              "      <td>1.000000</td>\n",
              "      <td>0.047316</td>\n",
              "      <td>-0.010877</td>\n",
              "      <td>0.010973</td>\n",
              "      <td>0.000993</td>\n",
              "      <td>-0.035498</td>\n",
              "      <td>-0.032500</td>\n",
              "      <td>-0.064219</td>\n",
              "      <td>-0.060811</td>\n",
              "      <td>-0.055251</td>\n",
              "    </tr>\n",
              "    <tr>\n",
              "      <th>MonthlyIncome</th>\n",
              "      <td>-0.044314</td>\n",
              "      <td>-0.021607</td>\n",
              "      <td>0.006410</td>\n",
              "      <td>0.047316</td>\n",
              "      <td>1.000000</td>\n",
              "      <td>-0.019915</td>\n",
              "      <td>0.004325</td>\n",
              "      <td>0.026930</td>\n",
              "      <td>-0.033694</td>\n",
              "      <td>0.050112</td>\n",
              "      <td>0.000995</td>\n",
              "      <td>0.065219</td>\n",
              "      <td>0.024304</td>\n",
              "    </tr>\n",
              "    <tr>\n",
              "      <th>NumCompaniesWorked</th>\n",
              "      <td>0.299297</td>\n",
              "      <td>-0.012617</td>\n",
              "      <td>-0.016096</td>\n",
              "      <td>-0.010877</td>\n",
              "      <td>-0.019915</td>\n",
              "      <td>1.000000</td>\n",
              "      <td>0.031683</td>\n",
              "      <td>0.017685</td>\n",
              "      <td>0.237472</td>\n",
              "      <td>-0.032123</td>\n",
              "      <td>-0.116322</td>\n",
              "      <td>-0.035421</td>\n",
              "      <td>-0.108223</td>\n",
              "    </tr>\n",
              "    <tr>\n",
              "      <th>PercentSalaryHike</th>\n",
              "      <td>-0.033137</td>\n",
              "      <td>0.038125</td>\n",
              "      <td>-0.040531</td>\n",
              "      <td>0.010973</td>\n",
              "      <td>0.004325</td>\n",
              "      <td>0.031683</td>\n",
              "      <td>1.000000</td>\n",
              "      <td>0.012548</td>\n",
              "      <td>-0.019495</td>\n",
              "      <td>-0.037392</td>\n",
              "      <td>-0.029707</td>\n",
              "      <td>-0.029542</td>\n",
              "      <td>-0.040864</td>\n",
              "    </tr>\n",
              "    <tr>\n",
              "      <th>StockOptionLevel</th>\n",
              "      <td>-0.031753</td>\n",
              "      <td>0.011169</td>\n",
              "      <td>0.001261</td>\n",
              "      <td>0.000993</td>\n",
              "      <td>0.026930</td>\n",
              "      <td>0.017685</td>\n",
              "      <td>0.012548</td>\n",
              "      <td>1.000000</td>\n",
              "      <td>0.003128</td>\n",
              "      <td>-0.069902</td>\n",
              "      <td>0.007886</td>\n",
              "      <td>0.019063</td>\n",
              "      <td>0.017757</td>\n",
              "    </tr>\n",
              "    <tr>\n",
              "      <th>TotalWorkingYears</th>\n",
              "      <td>0.678436</td>\n",
              "      <td>0.008925</td>\n",
              "      <td>-0.011581</td>\n",
              "      <td>-0.035498</td>\n",
              "      <td>-0.033694</td>\n",
              "      <td>0.237472</td>\n",
              "      <td>-0.019495</td>\n",
              "      <td>0.003128</td>\n",
              "      <td>1.000000</td>\n",
              "      <td>-0.041842</td>\n",
              "      <td>0.624468</td>\n",
              "      <td>0.403405</td>\n",
              "      <td>0.457363</td>\n",
              "    </tr>\n",
              "    <tr>\n",
              "      <th>TrainingTimesLastYear</th>\n",
              "      <td>-0.027308</td>\n",
              "      <td>-0.009001</td>\n",
              "      <td>0.010472</td>\n",
              "      <td>-0.032500</td>\n",
              "      <td>0.050112</td>\n",
              "      <td>-0.032123</td>\n",
              "      <td>-0.037392</td>\n",
              "      <td>-0.069902</td>\n",
              "      <td>-0.041842</td>\n",
              "      <td>1.000000</td>\n",
              "      <td>-0.007894</td>\n",
              "      <td>0.016121</td>\n",
              "      <td>-0.013270</td>\n",
              "    </tr>\n",
              "    <tr>\n",
              "      <th>YearsAtCompany</th>\n",
              "      <td>0.311309</td>\n",
              "      <td>0.031684</td>\n",
              "      <td>0.006080</td>\n",
              "      <td>-0.064219</td>\n",
              "      <td>0.000995</td>\n",
              "      <td>-0.116322</td>\n",
              "      <td>-0.029707</td>\n",
              "      <td>0.007886</td>\n",
              "      <td>0.624468</td>\n",
              "      <td>-0.007894</td>\n",
              "      <td>1.000000</td>\n",
              "      <td>0.618409</td>\n",
              "      <td>0.769212</td>\n",
              "    </tr>\n",
              "    <tr>\n",
              "      <th>YearsSinceLastPromotion</th>\n",
              "      <td>0.216513</td>\n",
              "      <td>0.002290</td>\n",
              "      <td>0.022490</td>\n",
              "      <td>-0.060811</td>\n",
              "      <td>0.065219</td>\n",
              "      <td>-0.035421</td>\n",
              "      <td>-0.029542</td>\n",
              "      <td>0.019063</td>\n",
              "      <td>0.403405</td>\n",
              "      <td>0.016121</td>\n",
              "      <td>0.618409</td>\n",
              "      <td>1.000000</td>\n",
              "      <td>0.510224</td>\n",
              "    </tr>\n",
              "    <tr>\n",
              "      <th>YearsWithCurrManager</th>\n",
              "      <td>0.202089</td>\n",
              "      <td>0.021584</td>\n",
              "      <td>0.005358</td>\n",
              "      <td>-0.055251</td>\n",
              "      <td>0.024304</td>\n",
              "      <td>-0.108223</td>\n",
              "      <td>-0.040864</td>\n",
              "      <td>0.017757</td>\n",
              "      <td>0.457363</td>\n",
              "      <td>-0.013270</td>\n",
              "      <td>0.769212</td>\n",
              "      <td>0.510224</td>\n",
              "      <td>1.000000</td>\n",
              "    </tr>\n",
              "  </tbody>\n",
              "</table>\n",
              "</div>\n",
              "      <button class=\"colab-df-convert\" onclick=\"convertToInteractive('df-f5c03793-74dd-47ad-9747-23e018d922a7')\"\n",
              "              title=\"Convert this dataframe to an interactive table.\"\n",
              "              style=\"display:none;\">\n",
              "        \n",
              "  <svg xmlns=\"http://www.w3.org/2000/svg\" height=\"24px\"viewBox=\"0 0 24 24\"\n",
              "       width=\"24px\">\n",
              "    <path d=\"M0 0h24v24H0V0z\" fill=\"none\"/>\n",
              "    <path d=\"M18.56 5.44l.94 2.06.94-2.06 2.06-.94-2.06-.94-.94-2.06-.94 2.06-2.06.94zm-11 1L8.5 8.5l.94-2.06 2.06-.94-2.06-.94L8.5 2.5l-.94 2.06-2.06.94zm10 10l.94 2.06.94-2.06 2.06-.94-2.06-.94-.94-2.06-.94 2.06-2.06.94z\"/><path d=\"M17.41 7.96l-1.37-1.37c-.4-.4-.92-.59-1.43-.59-.52 0-1.04.2-1.43.59L10.3 9.45l-7.72 7.72c-.78.78-.78 2.05 0 2.83L4 21.41c.39.39.9.59 1.41.59.51 0 1.02-.2 1.41-.59l7.78-7.78 2.81-2.81c.8-.78.8-2.07 0-2.86zM5.41 20L4 18.59l7.72-7.72 1.47 1.35L5.41 20z\"/>\n",
              "  </svg>\n",
              "      </button>\n",
              "      \n",
              "  <style>\n",
              "    .colab-df-container {\n",
              "      display:flex;\n",
              "      flex-wrap:wrap;\n",
              "      gap: 12px;\n",
              "    }\n",
              "\n",
              "    .colab-df-convert {\n",
              "      background-color: #E8F0FE;\n",
              "      border: none;\n",
              "      border-radius: 50%;\n",
              "      cursor: pointer;\n",
              "      display: none;\n",
              "      fill: #1967D2;\n",
              "      height: 32px;\n",
              "      padding: 0 0 0 0;\n",
              "      width: 32px;\n",
              "    }\n",
              "\n",
              "    .colab-df-convert:hover {\n",
              "      background-color: #E2EBFA;\n",
              "      box-shadow: 0px 1px 2px rgba(60, 64, 67, 0.3), 0px 1px 3px 1px rgba(60, 64, 67, 0.15);\n",
              "      fill: #174EA6;\n",
              "    }\n",
              "\n",
              "    [theme=dark] .colab-df-convert {\n",
              "      background-color: #3B4455;\n",
              "      fill: #D2E3FC;\n",
              "    }\n",
              "\n",
              "    [theme=dark] .colab-df-convert:hover {\n",
              "      background-color: #434B5C;\n",
              "      box-shadow: 0px 1px 3px 1px rgba(0, 0, 0, 0.15);\n",
              "      filter: drop-shadow(0px 1px 2px rgba(0, 0, 0, 0.3));\n",
              "      fill: #FFFFFF;\n",
              "    }\n",
              "  </style>\n",
              "\n",
              "      <script>\n",
              "        const buttonEl =\n",
              "          document.querySelector('#df-f5c03793-74dd-47ad-9747-23e018d922a7 button.colab-df-convert');\n",
              "        buttonEl.style.display =\n",
              "          google.colab.kernel.accessAllowed ? 'block' : 'none';\n",
              "\n",
              "        async function convertToInteractive(key) {\n",
              "          const element = document.querySelector('#df-f5c03793-74dd-47ad-9747-23e018d922a7');\n",
              "          const dataTable =\n",
              "            await google.colab.kernel.invokeFunction('convertToInteractive',\n",
              "                                                     [key], {});\n",
              "          if (!dataTable) return;\n",
              "\n",
              "          const docLinkHtml = 'Like what you see? Visit the ' +\n",
              "            '<a target=\"_blank\" href=https://colab.research.google.com/notebooks/data_table.ipynb>data table notebook</a>'\n",
              "            + ' to learn more about interactive tables.';\n",
              "          element.innerHTML = '';\n",
              "          dataTable['output_type'] = 'display_data';\n",
              "          await google.colab.output.renderOutput(dataTable, element);\n",
              "          const docLink = document.createElement('div');\n",
              "          docLink.innerHTML = docLinkHtml;\n",
              "          element.appendChild(docLink);\n",
              "        }\n",
              "      </script>\n",
              "    </div>\n",
              "  </div>\n",
              "  "
            ]
          },
          "metadata": {},
          "execution_count": 11
        }
      ]
    },
    {
      "cell_type": "markdown",
      "source": [
        "## 4-VAZIFA: Dataset uzunligini toping, ya'ni umumiy nechta qator(row) dan tashkil topgan\n",
        "#### - Attrition(ishdan bo'shaganmi) ustunidagi \"Yes\" deb javob berilgan qatorlar soni\n",
        "#### - Attrition(ishdan bo'shaganmi) ustunidagi \"No\" deb javob berilgan qatorlar soni\n",
        "#### - Attrition(ishdan bo'shaganmi) ustunidagi \"Yes\" deb javob berilgan qatorlar soni umumiy datasetning necha fozini tashkil etadi\n",
        "#### - Attrition(ishdan bo'shaganmi) ustunidagi \"No\" deb javob berilgan qatorlar soni umumiy datasetning necha fozini tashkil etadi\n",
        "\n",
        "**Hint:** har birini ekranga chiqarish uchun print dan foydalaning\n",
        "\n",
        "\n",
        "<a href=\"https://imgbb.com/\"><img src=\"https://i.ibb.co/28VjRyB/img.png\" alt=\"img\" border=\"0\"></a>"
      ],
      "metadata": {
        "id": "RYu99y9T8XrY"
      }
    },
    {
      "cell_type": "code",
      "source": [
        "data.shape"
      ],
      "metadata": {
        "id": "pBjb4BA8W64u",
        "outputId": "e6eaa5de-513d-47ff-8a08-b6ef0a159872",
        "colab": {
          "base_uri": "https://localhost:8080/"
        }
      },
      "execution_count": 18,
      "outputs": [
        {
          "output_type": "execute_result",
          "data": {
            "text/plain": [
              "(4410, 21)"
            ]
          },
          "metadata": {},
          "execution_count": 18
        }
      ]
    },
    {
      "cell_type": "code",
      "source": [
        "# JAVOBNI SHUYERGA YOZING\n",
        "data[\"Attrition\"].value_counts()"
      ],
      "metadata": {
        "id": "7sHkGw4u8Y6n",
        "outputId": "b3bdede0-9970-41c1-f262-2571e66c57a9",
        "colab": {
          "base_uri": "https://localhost:8080/"
        }
      },
      "execution_count": 23,
      "outputs": [
        {
          "output_type": "execute_result",
          "data": {
            "text/plain": [
              "No     3699\n",
              "Yes     711\n",
              "Name: Attrition, dtype: int64"
            ]
          },
          "metadata": {},
          "execution_count": 23
        }
      ]
    },
    {
      "cell_type": "code",
      "source": [
        "df=data[data[\"Attrition\"] ==\"Yes\"]\n",
        "df.shape"
      ],
      "metadata": {
        "id": "MK0Dec1UXEYG",
        "outputId": "847858a1-92a6-465a-9d02-76d58cc79fa9",
        "colab": {
          "base_uri": "https://localhost:8080/"
        }
      },
      "execution_count": 65,
      "outputs": [
        {
          "output_type": "execute_result",
          "data": {
            "text/plain": [
              "(711, 21)"
            ]
          },
          "metadata": {},
          "execution_count": 65
        }
      ]
    },
    {
      "cell_type": "code",
      "source": [
        "df2=data[data[\"Attrition\"]==\"No\"]\n",
        "df2.shape"
      ],
      "metadata": {
        "id": "5FgXRm3UYB2a",
        "outputId": "dde48d17-51d4-43b4-bbbe-cc2526670a86",
        "colab": {
          "base_uri": "https://localhost:8080/"
        }
      },
      "execution_count": 66,
      "outputs": [
        {
          "output_type": "execute_result",
          "data": {
            "text/plain": [
              "(3699, 21)"
            ]
          },
          "metadata": {},
          "execution_count": 66
        }
      ]
    },
    {
      "cell_type": "code",
      "source": [
        "(711/3699)*100              # percentage of \"Yes\" is aproximately 19%"
      ],
      "metadata": {
        "id": "JrgAngqhYVdT",
        "outputId": "233e8f46-11fe-40dc-d722-92976d5f0313",
        "colab": {
          "base_uri": "https://localhost:8080/"
        }
      },
      "execution_count": 29,
      "outputs": [
        {
          "output_type": "execute_result",
          "data": {
            "text/plain": [
              "19.22141119221411"
            ]
          },
          "metadata": {},
          "execution_count": 29
        }
      ]
    },
    {
      "cell_type": "markdown",
      "source": [
        "## 5-VAZIFA: Countplot() orqali Attrition ustunidagi ma'lumotlarni \"Yes\" \"No\" soniga ko'ra, ustunli grafik shaklida tasvirlang\n",
        "\n",
        "<a href=\"https://imgbb.com/\"><img src=\"https://i.ibb.co/Px9Bn6J/plt.png\" alt=\"plt\" border=\"0\"></a>"
      ],
      "metadata": {
        "id": "wcqV7Cfm9ssp"
      }
    },
    {
      "cell_type": "code",
      "source": [
        "# JAVOBNI SHUYERGA YOZING\n",
        "plt.figure(figsize=(10,5))\n",
        "sns.set_theme(style=\"darkgrid\")\n",
        "sns.countplot(data=data, x=\"Attrition\")\n",
        "plt.show()"
      ],
      "metadata": {
        "id": "dTS-HrvM9tdg",
        "outputId": "061f5889-b52b-45e7-8730-88cf0707b7e6",
        "colab": {
          "base_uri": "https://localhost:8080/",
          "height": 339
        }
      },
      "execution_count": 36,
      "outputs": [
        {
          "output_type": "display_data",
          "data": {
            "text/plain": [
              "<Figure size 720x360 with 1 Axes>"
            ],
            "image/png": "[encoded data removed]"
          },
          "metadata": {}
        }
      ]
    },
    {
      "cell_type": "markdown",
      "source": [
        "## 6-VAZIFA: Countplot() orqali Attrition ustunidagi ma'lumotlarni \"Yes\" \"No\" soniga ko'ra hamda gender ustuniga bo'lingan holda ustunli grafikda tasvirlang.\n",
        "\n",
        "<a href=\"https://imgbb.com/\"><img src=\"https://i.ibb.co/R7BC8z2/bygender.png\" alt=\"bygender\" border=\"0\"></a>"
      ],
      "metadata": {
        "id": "U8C6d9GuIJus"
      }
    },
    {
      "cell_type": "code",
      "source": [
        "# JAVOBNI SHUYERGA YOZING\n",
        "plt.figure(figsize=(10,5))\n",
        "sns.set_theme(style=\"darkgrid\")\n",
        "sns.countplot(data=data, x=\"Attrition\", hue=\"Gender\")\n",
        "plt.show()"
      ],
      "metadata": {
        "id": "IHuArXLLILEB",
        "outputId": "c2d137da-f7d1-436f-d4c5-9bfba6a779cf",
        "colab": {
          "base_uri": "https://localhost:8080/",
          "height": 339
        }
      },
      "execution_count": 38,
      "outputs": [
        {
          "output_type": "display_data",
          "data": {
            "text/plain": [
              "<Figure size 720x360 with 1 Axes>"
            ],
            "image/png": "[encoded data removed]"
          },
          "metadata": {}
        }
      ]
    },
    {
      "cell_type": "markdown",
      "source": [
        "## 7-VAZIFA: Countplot() orqali Attrition ustunidagi ma'lumotlarni \"Yes\" \"No\" soniga ko'ra hamda jobLevel ustuniga bo'lingan holda ustunli grafikda tasvirlang.\n",
        "\n",
        "<a href=\"https://imgbb.com/\"><img src=\"https://i.ibb.co/kmzVfDK/byjoblevel.png\" alt=\"byjoblevel\" border=\"0\"></a><br /><a target='_blank' href='https://the-crosswordsolver.com/tobagos-island-neighbor-8-letters'></a><br />"
      ],
      "metadata": {
        "id": "2tAmAxOXKCa0"
      }
    },
    {
      "cell_type": "code",
      "source": [
        "# JAVOBNI SHUYERGA YOZING\n",
        "plt.figure(figsize=(10,5))\n",
        "sns.set_theme(style=\"darkgrid\")\n",
        "sns.countplot(data=data, x=\"Attrition\", hue=\"JobLevel\")\n",
        "plt.show()"
      ],
      "metadata": {
        "id": "P0OEMc9UKvgP",
        "outputId": "0e7e6dbd-dd97-408e-ddda-3da7a00e3f7e",
        "colab": {
          "base_uri": "https://localhost:8080/",
          "height": 339
        }
      },
      "execution_count": 39,
      "outputs": [
        {
          "output_type": "display_data",
          "data": {
            "text/plain": [
              "<Figure size 720x360 with 1 Axes>"
            ],
            "image/png": "[encoded data removed]"
          },
          "metadata": {}
        }
      ]
    },
    {
      "cell_type": "markdown",
      "source": [
        "## 8-VAZIFA: Pie chart orqali \"Attrition\" (ishdan bo'shaganmi) ustunidagi Yes va No qiymatlariga ko'ra grafikni chiqaring\n",
        "\n",
        "<a href=\"https://imgbb.com/\"><img src=\"https://i.ibb.co/LZ4cCKb/PieChart.png\" alt=\"PieChart\" border=\"0\"></a><br /><a target='_blank' href='https://the-crosswordsolver.com/netman-smith-4-letters'></a><br />"
      ],
      "metadata": {
        "id": "vKqBcTPhL3-3"
      }
    },
    {
      "cell_type": "code",
      "source": [
        "df = pd.DataFrame({'mass': [0.330, 4.87 , 5.97],\n",
        "                   'radius': [2439.7, 6051.8, 6378.1]},\n",
        "                  index=['Mercury', 'Venus', 'Earth'])\n",
        "plot = df.plot.pie(y='mass', figsize=(5, 5))"
      ],
      "metadata": {
        "id": "3OjGQhYifhv8",
        "outputId": "6141711d-f7f6-48c3-84ce-5abcb2229430",
        "colab": {
          "base_uri": "https://localhost:8080/",
          "height": 303
        }
      },
      "execution_count": 63,
      "outputs": [
        {
          "output_type": "display_data",
          "data": {
            "text/plain": [
              "<Figure size 360x360 with 1 Axes>"
            ],
            "image/png": "[encoded data removed]"
          },
          "metadata": {}
        }
      ]
    },
    {
      "cell_type": "code",
      "source": [
        "# JAVOBNI SHUYERGA YOZING\n",
        "piedata=pd.DataFrame({\"Yes\":711,\"No\":3699}, index=['Yes','No'])\n",
        "piedata"
      ],
      "metadata": {
        "id": "_m1tHdofL7RS",
        "outputId": "0599c1c1-edae-4bc6-f6be-c960f1186054",
        "colab": {
          "base_uri": "https://localhost:8080/",
          "height": 112
        }
      },
      "execution_count": 71,
      "outputs": [
        {
          "output_type": "execute_result",
          "data": {
            "text/plain": [
              "     Yes    No\n",
              "Yes  711  3699\n",
              "No   711  3699"
            ],
            "text/html": [
              "\n",
              "  <div id=\"df-059ed6ca-ccd9-4bee-89ad-8553a4d0573f\">\n",
              "    <div class=\"colab-df-container\">\n",
              "      <div>\n",
              "<style scoped>\n",
              "    .dataframe tbody tr th:only-of-type {\n",
              "        vertical-align: middle;\n",
              "    }\n",
              "\n",
              "    .dataframe tbody tr th {\n",
              "        vertical-align: top;\n",
              "    }\n",
              "\n",
              "    .dataframe thead th {\n",
              "        text-align: right;\n",
              "    }\n",
              "</style>\n",
              "<table border=\"1\" class=\"dataframe\">\n",
              "  <thead>\n",
              "    <tr style=\"text-align: right;\">\n",
              "      <th></th>\n",
              "      <th>Yes</th>\n",
              "      <th>No</th>\n",
              "    </tr>\n",
              "  </thead>\n",
              "  <tbody>\n",
              "    <tr>\n",
              "      <th>Yes</th>\n",
              "      <td>711</td>\n",
              "      <td>3699</td>\n",
              "    </tr>\n",
              "    <tr>\n",
              "      <th>No</th>\n",
              "      <td>711</td>\n",
              "      <td>3699</td>\n",
              "    </tr>\n",
              "  </tbody>\n",
              "</table>\n",
              "</div>\n",
              "      <button class=\"colab-df-convert\" onclick=\"convertToInteractive('df-059ed6ca-ccd9-4bee-89ad-8553a4d0573f')\"\n",
              "              title=\"Convert this dataframe to an interactive table.\"\n",
              "              style=\"display:none;\">\n",
              "        \n",
              "  <svg xmlns=\"http://www.w3.org/2000/svg\" height=\"24px\"viewBox=\"0 0 24 24\"\n",
              "       width=\"24px\">\n",
              "    <path d=\"M0 0h24v24H0V0z\" fill=\"none\"/>\n",
              "    <path d=\"M18.56 5.44l.94 2.06.94-2.06 2.06-.94-2.06-.94-.94-2.06-.94 2.06-2.06.94zm-11 1L8.5 8.5l.94-2.06 2.06-.94-2.06-.94L8.5 2.5l-.94 2.06-2.06.94zm10 10l.94 2.06.94-2.06 2.06-.94-2.06-.94-.94-2.06-.94 2.06-2.06.94z\"/><path d=\"M17.41 7.96l-1.37-1.37c-.4-.4-.92-.59-1.43-.59-.52 0-1.04.2-1.43.59L10.3 9.45l-7.72 7.72c-.78.78-.78 2.05 0 2.83L4 21.41c.39.39.9.59 1.41.59.51 0 1.02-.2 1.41-.59l7.78-7.78 2.81-2.81c.8-.78.8-2.07 0-2.86zM5.41 20L4 18.59l7.72-7.72 1.47 1.35L5.41 20z\"/>\n",
              "  </svg>\n",
              "      </button>\n",
              "      \n",
              "  <style>\n",
              "    .colab-df-container {\n",
              "      display:flex;\n",
              "      flex-wrap:wrap;\n",
              "      gap: 12px;\n",
              "    }\n",
              "\n",
              "    .colab-df-convert {\n",
              "      background-color: #E8F0FE;\n",
              "      border: none;\n",
              "      border-radius: 50%;\n",
              "      cursor: pointer;\n",
              "      display: none;\n",
              "      fill: #1967D2;\n",
              "      height: 32px;\n",
              "      padding: 0 0 0 0;\n",
              "      width: 32px;\n",
              "    }\n",
              "\n",
              "    .colab-df-convert:hover {\n",
              "      background-color: #E2EBFA;\n",
              "      box-shadow: 0px 1px 2px rgba(60, 64, 67, 0.3), 0px 1px 3px 1px rgba(60, 64, 67, 0.15);\n",
              "      fill: #174EA6;\n",
              "    }\n",
              "\n",
              "    [theme=dark] .colab-df-convert {\n",
              "      background-color: #3B4455;\n",
              "      fill: #D2E3FC;\n",
              "    }\n",
              "\n",
              "    [theme=dark] .colab-df-convert:hover {\n",
              "      background-color: #434B5C;\n",
              "      box-shadow: 0px 1px 3px 1px rgba(0, 0, 0, 0.15);\n",
              "      filter: drop-shadow(0px 1px 2px rgba(0, 0, 0, 0.3));\n",
              "      fill: #FFFFFF;\n",
              "    }\n",
              "  </style>\n",
              "\n",
              "      <script>\n",
              "        const buttonEl =\n",
              "          document.querySelector('#df-059ed6ca-ccd9-4bee-89ad-8553a4d0573f button.colab-df-convert');\n",
              "        buttonEl.style.display =\n",
              "          google.colab.kernel.accessAllowed ? 'block' : 'none';\n",
              "\n",
              "        async function convertToInteractive(key) {\n",
              "          const element = document.querySelector('#df-059ed6ca-ccd9-4bee-89ad-8553a4d0573f');\n",
              "          const dataTable =\n",
              "            await google.colab.kernel.invokeFunction('convertToInteractive',\n",
              "                                                     [key], {});\n",
              "          if (!dataTable) return;\n",
              "\n",
              "          const docLinkHtml = 'Like what you see? Visit the ' +\n",
              "            '<a target=\"_blank\" href=https://colab.research.google.com/notebooks/data_table.ipynb>data table notebook</a>'\n",
              "            + ' to learn more about interactive tables.';\n",
              "          element.innerHTML = '';\n",
              "          dataTable['output_type'] = 'display_data';\n",
              "          await google.colab.output.renderOutput(dataTable, element);\n",
              "          const docLink = document.createElement('div');\n",
              "          docLink.innerHTML = docLinkHtml;\n",
              "          element.appendChild(docLink);\n",
              "        }\n",
              "      </script>\n",
              "    </div>\n",
              "  </div>\n",
              "  "
            ]
          },
          "metadata": {},
          "execution_count": 71
        }
      ]
    },
    {
      "cell_type": "code",
      "source": [
        ""
      ],
      "metadata": {
        "id": "VC4P7aOumKau",
        "outputId": "55735b91-159a-4581-bba1-30299ac733bf",
        "colab": {
          "base_uri": "https://localhost:8080/",
          "height": 303
        }
      },
      "execution_count": 73,
      "outputs": [
        {
          "output_type": "display_data",
          "data": {
            "text/plain": [
              "<Figure size 360x360 with 1 Axes>"
            ],
            "image/png": "[encoded data removed]"
          },
          "metadata": {}
        }
      ]
    },
    {
      "cell_type": "markdown",
      "source": [
        "## 9-VAZIFA:  Crosstab orqali \"Attrition\" (ishdan bo'shaganmi) ustunidagi Yes va No qiymatlari hamda Department ustuniga ko'ra grafikni chiqaring\n",
        "\n",
        "<a href=\"https://imgbb.com/\"><img src=\"https://i.ibb.co/g4KgG6q/depart.png\" alt=\"depart\" border=\"0\"></a>"
      ],
      "metadata": {
        "id": "kEEl9lmJWCfi"
      }
    },
    {
      "cell_type": "code",
      "source": [
        "# JAVOBNI SHUYERGA YOZING\n",
        "\n",
        "\n"
      ],
      "metadata": {
        "id": "7xSeffiDWDd5"
      },
      "execution_count": null,
      "outputs": []
    },
    {
      "cell_type": "markdown",
      "source": [
        "## 10-VAZIFA:  Seaborn kutubxonasining Distribution(taqsimot) imkoniyatidan foydalanib, Attrition(ishdan bo'shaganmi) ustunini MonthlyIncome ustuniga solishtirilganligini grafigini ekranga chiqaring.\n",
        "\n",
        "\n",
        "**Hint: ** Bu orqali biz ishchining oylik maoshini uning ishdan bo'shab ketishiga bog'liq yoki bog'liq emasligini topamiz.\n",
        "\n",
        "<a href=\"https://imgbb.com/\"><img src=\"https://i.ibb.co/zQc4FVZ/displot.png\" alt=\"displot\" border=\"0\"></a><br /><a target='_blank' href='https://500pxdownload.com/'></a><br />"
      ],
      "metadata": {
        "id": "Y3vs7JJIXEgf"
      }
    },
    {
      "cell_type": "code",
      "source": [
        "# JAVOBNI SHUYERGA YOZING"
      ],
      "metadata": {
        "id": "xbF-fJq7XFTf"
      },
      "execution_count": null,
      "outputs": []
    }
  ]
}